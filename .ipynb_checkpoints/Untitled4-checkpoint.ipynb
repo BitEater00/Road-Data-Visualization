{
 "cells": [
  {
   "cell_type": "code",
   "execution_count": 13,
   "metadata": {},
   "outputs": [],
   "source": [
    "from datashader.utils import lnglat_to_meters as webm\n",
    "from functools import partial\n",
    "from datashader.utils import export_image\n",
    "from datashader.colors import colormap_select , Greys9\n",
    "from IPython.core.display import HTML , display\n",
    "import pandas as pd\n",
    "import datashader as ds\n",
    "import datashader.transfer_functions as tf"
   ]
  },
  {
   "cell_type": "code",
   "execution_count": 4,
   "metadata": {},
   "outputs": [],
   "source": [
    "df = pd.read_csv('test.csv')"
   ]
  },
  {
   "cell_type": "code",
   "execution_count": 5,
   "metadata": {},
   "outputs": [
    {
     "data": {
      "text/html": [
       "<div>\n",
       "<style scoped>\n",
       "    .dataframe tbody tr th:only-of-type {\n",
       "        vertical-align: middle;\n",
       "    }\n",
       "\n",
       "    .dataframe tbody tr th {\n",
       "        vertical-align: top;\n",
       "    }\n",
       "\n",
       "    .dataframe thead th {\n",
       "        text-align: right;\n",
       "    }\n",
       "</style>\n",
       "<table border=\"1\" class=\"dataframe\">\n",
       "  <thead>\n",
       "    <tr style=\"text-align: right;\">\n",
       "      <th></th>\n",
       "      <th>id</th>\n",
       "      <th>vendor_id</th>\n",
       "      <th>pickup_datetime</th>\n",
       "      <th>passenger_count</th>\n",
       "      <th>pickup_longitude</th>\n",
       "      <th>pickup_latitude</th>\n",
       "      <th>dropoff_longitude</th>\n",
       "      <th>dropoff_latitude</th>\n",
       "      <th>store_and_fwd_flag</th>\n",
       "    </tr>\n",
       "  </thead>\n",
       "  <tbody>\n",
       "    <tr>\n",
       "      <th>0</th>\n",
       "      <td>id3004672</td>\n",
       "      <td>1</td>\n",
       "      <td>2016-06-30 23:59:58</td>\n",
       "      <td>1</td>\n",
       "      <td>-73.988129</td>\n",
       "      <td>40.732029</td>\n",
       "      <td>-73.990173</td>\n",
       "      <td>40.756680</td>\n",
       "      <td>N</td>\n",
       "    </tr>\n",
       "    <tr>\n",
       "      <th>1</th>\n",
       "      <td>id3505355</td>\n",
       "      <td>1</td>\n",
       "      <td>2016-06-30 23:59:53</td>\n",
       "      <td>1</td>\n",
       "      <td>-73.964203</td>\n",
       "      <td>40.679993</td>\n",
       "      <td>-73.959808</td>\n",
       "      <td>40.655403</td>\n",
       "      <td>N</td>\n",
       "    </tr>\n",
       "    <tr>\n",
       "      <th>2</th>\n",
       "      <td>id1217141</td>\n",
       "      <td>1</td>\n",
       "      <td>2016-06-30 23:59:47</td>\n",
       "      <td>1</td>\n",
       "      <td>-73.997437</td>\n",
       "      <td>40.737583</td>\n",
       "      <td>-73.986160</td>\n",
       "      <td>40.729523</td>\n",
       "      <td>N</td>\n",
       "    </tr>\n",
       "    <tr>\n",
       "      <th>3</th>\n",
       "      <td>id2150126</td>\n",
       "      <td>2</td>\n",
       "      <td>2016-06-30 23:59:41</td>\n",
       "      <td>1</td>\n",
       "      <td>-73.956070</td>\n",
       "      <td>40.771900</td>\n",
       "      <td>-73.986427</td>\n",
       "      <td>40.730469</td>\n",
       "      <td>N</td>\n",
       "    </tr>\n",
       "    <tr>\n",
       "      <th>4</th>\n",
       "      <td>id1598245</td>\n",
       "      <td>1</td>\n",
       "      <td>2016-06-30 23:59:33</td>\n",
       "      <td>1</td>\n",
       "      <td>-73.970215</td>\n",
       "      <td>40.761475</td>\n",
       "      <td>-73.961510</td>\n",
       "      <td>40.755890</td>\n",
       "      <td>N</td>\n",
       "    </tr>\n",
       "  </tbody>\n",
       "</table>\n",
       "</div>"
      ],
      "text/plain": [
       "          id  vendor_id      pickup_datetime  passenger_count  \\\n",
       "0  id3004672          1  2016-06-30 23:59:58                1   \n",
       "1  id3505355          1  2016-06-30 23:59:53                1   \n",
       "2  id1217141          1  2016-06-30 23:59:47                1   \n",
       "3  id2150126          2  2016-06-30 23:59:41                1   \n",
       "4  id1598245          1  2016-06-30 23:59:33                1   \n",
       "\n",
       "   pickup_longitude  pickup_latitude  dropoff_longitude  dropoff_latitude  \\\n",
       "0        -73.988129        40.732029         -73.990173         40.756680   \n",
       "1        -73.964203        40.679993         -73.959808         40.655403   \n",
       "2        -73.997437        40.737583         -73.986160         40.729523   \n",
       "3        -73.956070        40.771900         -73.986427         40.730469   \n",
       "4        -73.970215        40.761475         -73.961510         40.755890   \n",
       "\n",
       "  store_and_fwd_flag  \n",
       "0                  N  \n",
       "1                  N  \n",
       "2                  N  \n",
       "3                  N  \n",
       "4                  N  "
      ]
     },
     "execution_count": 5,
     "metadata": {},
     "output_type": "execute_result"
    }
   ],
   "source": [
    "df.head()"
   ]
  },
  {
   "cell_type": "code",
   "execution_count": 6,
   "metadata": {},
   "outputs": [],
   "source": [
    "df.loc[:,'easting'] , df.loc[:,'northing'] = webm(df['pickup_longitude'] , df['pickup_latitude'])"
   ]
  },
  {
   "cell_type": "code",
   "execution_count": 7,
   "metadata": {},
   "outputs": [],
   "source": [
    "y_range_min = df['pickup_latitude'].quantile(0.01)\n",
    "y_range_max = df['pickup_latitude'].quantile(0.99)\n",
    "x_range_min = df['pickup_longitude'].quantile(0.01)\n",
    "x_range_max = df['pickup_longitude'].quantile(0.99)"
   ]
  },
  {
   "cell_type": "code",
   "execution_count": 8,
   "metadata": {},
   "outputs": [],
   "source": [
    "sw = webm(x_range_min,y_range_min)\n",
    "ne = webm(x_range_max,y_range_max)\n",
    "SF = zip(sw,ne)"
   ]
  },
  {
   "cell_type": "code",
   "execution_count": 9,
   "metadata": {},
   "outputs": [
    {
     "data": {
      "text/html": [
       "<style>.container {width : 100% !important;}</style>"
      ],
      "text/plain": [
       "<IPython.core.display.HTML object>"
      ]
     },
     "metadata": {},
     "output_type": "display_data"
    }
   ],
   "source": [
    "plot_width = int(50)\n",
    "plot_height = int(50)\n",
    "background = \"black\"\n",
    "export = partial(export_image,background=background,export_path = \"export\")\n",
    "cm = partial(colormap_select , reverse = (background != \"black\"))\n",
    "\n",
    "display(HTML(\"<style>.container {width : 100% !important;}</style>\"))"
   ]
  },
  {
   "cell_type": "code",
   "execution_count": 11,
   "metadata": {},
   "outputs": [],
   "source": [
    "cvs = ds.Canvas(plot_width,plot_height,*SF)\n",
    "agg = cvs.points(df,'easting','northing')"
   ]
  },
  {
   "cell_type": "code",
   "execution_count": 16,
   "metadata": {},
   "outputs": [
    {
     "data": {
      "image/png": "[encoded data removed]",
      "text/html": [
       "<img style=\"margin: auto; border:1px solid\" src='data:image/png;base64,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'/>"
      ],
      "text/plain": [
       "<xarray.Image (northing: 500, easting: 500)>\n",
       "array([[4280624421, 4278190080, 4278190080, ..., 4278190080, 4278190080,\n",
       "        4278190080],\n",
       "       [4278190080, 4278190080, 4278190080, ..., 4278190080, 4278190080,\n",
       "        4278190080],\n",
       "       [4278190080, 4278190080, 4278190080, ..., 4278190080, 4278190080,\n",
       "        4278190080],\n",
       "       ...,\n",
       "       [4278190080, 4278190080, 4278190080, ..., 4278190080, 4278190080,\n",
       "        4278190080],\n",
       "       [4278190080, 4278190080, 4278190080, ..., 4278190080, 4278190080,\n",
       "        4278190080],\n",
       "       [4278190080, 4278190080, 4278190080, ..., 4278190080, 4278190080,\n",
       "        4278190080]], dtype=uint32)\n",
       "Coordinates:\n",
       "  * easting   (easting) float64 -1.357e+07 -1.356e+07 ... -7.726e+06 -7.715e+06\n",
       "  * northing  (northing) float64 4.494e+06 4.496e+06 ... 5.281e+06 5.283e+06"
      ]
     },
     "execution_count": 16,
     "metadata": {},
     "output_type": "execute_result"
    }
   ],
   "source": [
    "export(tf.shade(agg , cmap = cm(Greys9,0.2) ) , \"sf_biz_grey\")"
   ]
  },
  {
   "cell_type": "code",
   "execution_count": 15,
   "metadata": {},
   "outputs": [
    {
     "name": "stdout",
     "output_type": "stream",
     "text": [
      "               id  vendor_id      pickup_datetime  passenger_count  \\\n",
      "0       id3004672          1  2016-06-30 23:59:58                1   \n",
      "1       id3505355          1  2016-06-30 23:59:53                1   \n",
      "2       id1217141          1  2016-06-30 23:59:47                1   \n",
      "3       id2150126          2  2016-06-30 23:59:41                1   \n",
      "4       id1598245          1  2016-06-30 23:59:33                1   \n",
      "...           ...        ...                  ...              ...   \n",
      "625129  id3008929          1  2016-01-01 00:02:52                1   \n",
      "625130  id3700764          1  2016-01-01 00:01:52                1   \n",
      "625131  id2568735          1  2016-01-01 00:01:24                2   \n",
      "625132  id1384355          1  2016-01-01 00:00:28                1   \n",
      "625133  id0621643          2  2016-01-01 00:00:22                2   \n",
      "\n",
      "        pickup_longitude  pickup_latitude  dropoff_longitude  \\\n",
      "0             -73.988129        40.732029         -73.990173   \n",
      "1             -73.964203        40.679993         -73.959808   \n",
      "2             -73.997437        40.737583         -73.986160   \n",
      "3             -73.956070        40.771900         -73.986427   \n",
      "4             -73.970215        40.761475         -73.961510   \n",
      "...                  ...              ...                ...   \n",
      "625129        -74.003464        40.725105         -74.001251   \n",
      "625130        -74.006363        40.743782         -73.953407   \n",
      "625131        -73.972267        40.759865         -73.876602   \n",
      "625132        -73.976501        40.733562         -73.854263   \n",
      "625133        -73.981850        40.716881         -73.969330   \n",
      "\n",
      "        dropoff_latitude store_and_fwd_flag       easting      northing  \n",
      "0              40.756680                  N -8.236321e+06  4.972896e+06  \n",
      "1              40.655403                  N -8.233657e+06  4.965255e+06  \n",
      "2              40.729523                  N -8.237357e+06  4.973712e+06  \n",
      "3              40.730469                  N -8.232752e+06  4.978755e+06  \n",
      "4              40.755890                  N -8.234327e+06  4.977223e+06  \n",
      "...                  ...                ...           ...           ...  \n",
      "625129         40.733643                  N -8.238028e+06  4.971879e+06  \n",
      "625130         40.782467                  N -8.238351e+06  4.974623e+06  \n",
      "625131         40.748665                  N -8.234555e+06  4.976986e+06  \n",
      "625132         40.891788                  N -8.235026e+06  4.973121e+06  \n",
      "625133         40.769379                  N -8.235622e+06  4.970671e+06  \n",
      "\n",
      "[625134 rows x 11 columns]\n"
     ]
    }
   ],
   "source": [
    "print(df)"
   ]
  },
  {
   "cell_type": "code",
   "execution_count": null,
   "metadata": {},
   "outputs": [],
   "source": []
  }
 ],
 "metadata": {
  "kernelspec": {
   "display_name": "Python 3",
   "language": "python",
   "name": "python3"
  },
  "language_info": {
   "codemirror_mode": {
    "name": "ipython",
    "version": 3
   },
   "file_extension": ".py",
   "mimetype": "text/x-python",
   "name": "python",
   "nbconvert_exporter": "python",
   "pygments_lexer": "ipython3",
   "version": "3.7.3"
  }
 },
 "nbformat": 4,
 "nbformat_minor": 4
}
